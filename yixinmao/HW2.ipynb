{
 "metadata": {
  "name": ""
 },
 "nbformat": 3,
 "nbformat_minor": 0,
 "worksheets": [
  {
   "cells": [
    {
     "cell_type": "markdown",
     "metadata": {},
     "source": [
      "# 6. ASSIGNMENT: AN INTEGRATOR PARENT\n",
      "1 Create a function <b> func </b> for the function $f(x) = sin(x)$."
     ]
    },
    {
     "cell_type": "code",
     "collapsed": false,
     "input": [
      "def func(x):\n",
      "    import numpy as np\n",
      "    return np.sin(x)"
     ],
     "language": "python",
     "metadata": {},
     "outputs": [],
     "prompt_number": 59
    },
    {
     "cell_type": "markdown",
     "metadata": {},
     "source": [
      "2 A template of the parent class integrator is provided. This class will have all the common functionality to integrate a function <b> f </b> in the interval <b>[a,b]</b>. However, the method of integration is not yet providednor the integration function. Read carefully the template, note the method of integration is not defined.\n",
      "\n",
      " 3 Add an additional function called <b> integrate(self,func) </b> inside the class Integrator, which calculates the integral from the weigths $w_i$: <b>self.weights</b> at different points x_i:<b>self.points</b>. Note this should be arrays. The integral is calculated as\n",
      "\n",
      "$$\n",
      "\\int_a^b f(x) dx = \\sum_{i=0}^{n-1} w_i f(x_i)\n",
      "$$"
     ]
    },
    {
     "cell_type": "code",
     "collapsed": false,
     "input": [
      "class Integrator(object):\n",
      "    def __init__(self, a, b, n):\n",
      "        self.a, self.b, self.n = a, b, n\n",
      "        self.points, self.weights = self.method()\n",
      "        \n",
      "    def method(self):\n",
      "        raise NotImplementedError('no rule in class %s' %self.__class__.__name__)\n",
      "\n",
      "    def integrate(self,func):\n",
      "        import numpy as np\n",
      "        return np.sum(self.weights*func(self.points))"
     ],
     "language": "python",
     "metadata": {},
     "outputs": [],
     "prompt_number": 60
    },
    {
     "cell_type": "markdown",
     "metadata": {},
     "source": [
      "4 Create a child class of Integrator called <b> Trapezoidal</b>, where you define a function called <b>method(self)</b>.\n",
      "This function should return two arrays: <b> x </b> and <b> w </b> corresponding to the points and their current weights.This should be the values correponding to the trapezoidal rule for integration. If you are not familiar with it, you can look for it online"
     ]
    },
    {
     "cell_type": "code",
     "collapsed": false,
     "input": [
      "class Trapezoidal(Integrator):\n",
      "    # Initialize child class function \n",
      "    def __init__(self, a, b, n):\n",
      "        super(Trapezoidal, self).__init__(a, b, n)\n",
      "        \n",
      "    def method(self):  # Area_total = [f(x0)/2 + f(x1) + ... + f(x_n-2) + f(x_n-1)/2]*dx; dx=(b-a)/(n-1)\n",
      "        import numpy as np\n",
      "        points = np.linspace(self.a, self.b, self.n)\n",
      "        dx = (self.b-self.a) / float(self.n-1)\n",
      "        weights = np.ones(self.n) * dx\n",
      "        weights[0] = dx/2.0\n",
      "        weights[-1] = dx/2.0\n",
      "        return points, weights\n",
      "        "
     ],
     "language": "python",
     "metadata": {},
     "outputs": [],
     "prompt_number": 61
    },
    {
     "cell_type": "markdown",
     "metadata": {},
     "source": [
      "5 Create a child class of Integrator called Midpoint. It should do the same as Trapezoidal but employing the midpoint method for numerical integration."
     ]
    },
    {
     "cell_type": "code",
     "collapsed": false,
     "input": [
      "class Midpoint(Integrator):\n",
      "    # Initialize child class function \n",
      "    def __init__(self, a, b, n):\n",
      "        super(Midpoint, self).__init__(a, b, n)\n",
      "        \n",
      "    def method(self):  # Area_total = [f(x0) + f(x1) + ... + f(x_n-1)]*dx; dx=(b-a)/n\n",
      "        import numpy as np\n",
      "        dx = (self.b-self.a) / float(self.n)\n",
      "        points = np.linspace(self.a+dx/2.0, self.b-dx/2.0, self.n)\n",
      "        weights = np.ones(self.n) * dx\n",
      "        return points, weights"
     ],
     "language": "python",
     "metadata": {},
     "outputs": [],
     "prompt_number": 62
    },
    {
     "cell_type": "markdown",
     "metadata": {},
     "source": [
      "6 Create a separate function of x that plots \u222bx0sin(x)dx=1\u2212cos(x), using any of the two methods you developed."
     ]
    },
    {
     "cell_type": "code",
     "collapsed": false,
     "input": [
      "%matplotlib inline\n",
      "import numpy as np\n",
      "import matplotlib.pyplot as plt\n",
      "\n",
      "x = np.linspace(0, np.pi*4, 100)\n",
      "x_intergral = np.empty(len(x))\n",
      "for i in range(len(x)):\n",
      "    x_intergral[i] = Trapezoidal(0, x[i], 100).integrate(func)\n",
      "\n",
      "fig = plt.figure()\n",
      "plt.plot(x, x_intergral)\n",
      "plt.xlabel('a')\n",
      "plt.ylabel('Integral of sin(x) from 0 to a')\n"
     ],
     "language": "python",
     "metadata": {},
     "outputs": [
      {
       "metadata": {},
       "output_type": "pyout",
       "prompt_number": 63,
       "text": [
        "<matplotlib.text.Text at 0x4963250>"
       ]
      },
      {
       "metadata": {},
       "output_type": "display_data",
       "png": "[encoded data removed]",
       "text": [
        "<matplotlib.figure.Figure at 0x33b7210>"
       ]
      }
     ],
     "prompt_number": 63
    }
   ],
   "metadata": {}
  }
 ]
}